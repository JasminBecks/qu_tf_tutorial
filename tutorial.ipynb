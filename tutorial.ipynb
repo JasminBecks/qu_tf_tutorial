{
 "cells": [
  {
   "cell_type": "markdown",
   "metadata": {
    "slideshow": {
     "slide_type": "slide"
    }
   },
   "source": [
    "# Quantum Universe TensorFlow and Machine Learning Tutorial \n",
    "\n",
    "Before we start with the actual tutorial, the notebook needs to be set up.\n",
    "\n",
    "To do this, please **execute the following four code cells**. Depending on your system, the first one might need a few moments to complete, so grab a ☕️ or a beverage of your choice, and already start reading through the introduction."
   ]
  },
  {
   "cell_type": "code",
   "execution_count": 1,
   "metadata": {
    "slideshow": {
     "slide_type": "slide"
    }
   },
   "outputs": [
    {
     "name": "stdout",
     "output_type": "stream",
     "text": [
      "Enabling notebook extension splitcell/splitcell...\n",
      "      - Validating: \u001b[32mOK\u001b[0m\n",
      "Enabling notebook extension rise/main...\n",
      "      - Validating: \u001b[32mOK\u001b[0m\n"
     ]
    }
   ],
   "source": [
    "# setup notebook extensions (cell splitting and presentation mode)\n",
    "!jupyter nbextension enable splitcell/splitcell\n",
    "!jupyter nbextension enable rise/main"
   ]
  },
  {
   "cell_type": "markdown",
   "metadata": {
    "slideshow": {
     "slide_type": "-"
    }
   },
   "source": [
    "**Now, reload the page for extensions to become active!**"
   ]
  },
  {
   "cell_type": "code",
   "execution_count": 2,
   "metadata": {
    "slideshow": {
     "slide_type": "-"
    }
   },
   "outputs": [],
   "source": [
    "# update the sys.path to prefer custom software\n",
    "import os\n",
    "import sys\n",
    "\n",
    "pyv = f\"{sys.version_info.major}.{sys.version_info.minor}\"\n",
    "sys.path.insert(0, os.path.abspath(f\"software/lib/python{pyv}/site-packages\"))"
   ]
  },
  {
   "cell_type": "code",
   "execution_count": 3,
   "metadata": {},
   "outputs": [
    {
     "data": {
      "text/html": [
       "<style>/* Prettier notebook styles here and there */\n",
       "\n",
       ".output_png {\n",
       "    display: table-cell;\n",
       "    text-align: center;\n",
       "    vertical-align: middle;\n",
       "}\n",
       "\n",
       "div.MathJax_Display {\n",
       "    text-align: center;\n",
       "    margin: 0.8em 0;\n",
       "}\n",
       "\n",
       "body.rise-enabled div#rise-footer {\n",
       "    bottom: 1em !important;\n",
       "    left: 2em !important;\n",
       "    font-size: 12pt !important;\n",
       "}\n",
       "\n",
       "body.rise-enabled div.slide-number {\n",
       "    bottom: 1em !important;\n",
       "    right: 2em !important;\n",
       "    font-size: 12pt !important;\n",
       "}\n",
       "\n",
       "body.rise-enabled i#help_b {\n",
       "    display: none !important;\n",
       "}\n",
       "\n",
       "body.rise-enabled div.text_cell_render.rendered_html {\n",
       "    font-size: 0.8em;\n",
       "}\n",
       "</style>"
      ],
      "text/plain": [
       "<IPython.core.display.HTML object>"
      ]
     },
     "execution_count": 3,
     "metadata": {},
     "output_type": "execute_result"
    }
   ],
   "source": [
    "# load custom css to make plots centered and the presentation mode prettier\n",
    "from IPython.core.display import HTML\n",
    "css_file = \"assets/notebook_styles.css\"\n",
    "HTML(\"<style>{}</style>\".format(open(css_file, \"r\").read()))"
   ]
  },
  {
   "cell_type": "markdown",
   "metadata": {
    "slideshow": {
     "slide_type": "-"
    }
   },
   "source": [
    "To verify that the setup worked, you can checkout the version of the TensorFlow package. If it's `2.3.0`, everything worked fine."
   ]
  },
  {
   "cell_type": "code",
   "execution_count": 4,
   "metadata": {
    "slideshow": {
     "slide_type": "-"
    }
   },
   "outputs": [
    {
     "name": "stdout",
     "output_type": "stream",
     "text": [
      "2.3.0\n"
     ]
    }
   ],
   "source": [
    "# load the qutf package and other software\n",
    "import qutf\n",
    "import numpy as np\n",
    "import matplotlib.pyplot as plt\n",
    "import tensorflow as tf\n",
    "from sklearn.metrics import roc_curve, roc_auc_score\n",
    "import livelossplot as llp\n",
    "\n",
    "print(tf.__version__)"
   ]
  },
  {
   "cell_type": "markdown",
   "metadata": {
    "slideshow": {
     "slide_type": "skip"
    }
   },
   "source": [
    "## Presentation mode\n",
    "\n",
    "Now that everything is up and running, you can proceed with the tutorial below.\n",
    "\n",
    "If you want, you can also switch into **presentation** mode by clicking on the small button with the bar chart icon labelled \"Enter/Exit RISE Slideshow\" in the task bar above.\n",
    "\n",
    "**Note**: If the button does not show up, you might need to reload the page once to setup newly enabled notebook extensions."
   ]
  },
  {
   "cell_type": "markdown",
   "metadata": {
    "slideshow": {
     "slide_type": "slide"
    }
   },
   "source": [
    "# TensorFlow and Machine Learning Tutorial"
   ]
  },
  {
   "cell_type": "markdown",
   "metadata": {
    "cell_style": "split"
   },
   "source": [
    "<br />\n",
    "<br />\n",
    "<img src=\"assets/boosted_top_decay.png\" />"
   ]
  },
  {
   "cell_type": "markdown",
   "metadata": {
    "slideshow": {
     "slide_type": "slide"
    }
   },
   "source": [
    "# Introduction"
   ]
  },
  {
   "cell_type": "markdown",
   "metadata": {
    "cell_style": "split"
   },
   "source": [
    "After a short introduction to TensorFlow itself, we will gain some hands-on experience using a notebook.\n",
    "\n",
    "Our task will be that of discriminating between jets produced by a hadronically decaying top quark (**top jet**), to jets produced by a light flavour quark or a gluon (**light / QCD jet**).\n",
    "\n",
    "- Top quark decays into three *sub jets*\n",
    "- But: high momentum will cause them to be merged\n",
    "\n",
    "→ Substructure might be resolvable by a NN and serve as a handle for classification!"
   ]
  },
  {
   "cell_type": "markdown",
   "metadata": {
    "cell_style": "split"
   },
   "source": [
    "<center><img src=\"assets/top_vs_qcd.png\" width=\"60%\"/></center>"
   ]
  },
  {
   "cell_type": "markdown",
   "metadata": {},
   "source": [
    "## Aim and scope of the tutorial\n",
    "\n",
    "You are given a dataset with information on > 1M jets, containing **kinematic observables** as well a **truth** label (a float value, either 0 or 1) that describes the origin of the jet. You can find more information on the input data in the cells below.\n",
    "\n",
    "**We will create a neural (NN) network model that, given a jet, uses its kinematic observables as input features to predict its most probable origin (\"class\" in ML terms)!**"
   ]
  },
  {
   "cell_type": "markdown",
   "metadata": {},
   "source": [
    "## Aim and scope of the tutorial\n",
    "\n",
    "In an **extension** of the tutorial, we will learn how to build a NN that serves multiple purposes at the same time. We will try to let the model also predict the four-vector of the initial quark - the actual physics object we are interested in for reconstructing the underlying hard interaction.\n",
    "\n",
    "---\n",
    "\n",
    "The **main goal** is not to write a perfectly working model that is tailored for one specific use case, but rather to get hands-on experience with TensorFlow and some of the fundamental concepts used in machine learning today."
   ]
  },
  {
   "cell_type": "markdown",
   "metadata": {
    "slideshow": {
     "slide_type": "slide"
    }
   },
   "source": [
    "## Setup\n",
    "\n",
    "You can run this tutorial in your browser:\n",
    "\n",
    "- Method 1: Local docker container\n",
    "- Method 2: [Binder](https://mybinder.org/v2/gh/riga/qu_tf_tutorial/HEAD?filepath=tutorial.ipynb) (after the lecture, if resources are sufficient)\n",
    "\n",
    "Instructions at [github.com/riga/qu_tf_tutorial](https://github.com/riga/qu_tf_tutorial)"
   ]
  },
  {
   "cell_type": "markdown",
   "metadata": {
    "slideshow": {
     "slide_type": "slide"
    }
   },
   "source": [
    "## Outline\n",
    "\n",
    "- Part 1: TensorFlow in a nutshell\n",
    "- Part 2: Refresher of NN terminology\n",
    "- Part 3: The tutorial dataset\n",
    "- Part 4: Minimal training and evaluation workflow\n",
    "- Part 5: Advanced training loop\n",
    "- Part 6 (opt.): Multi-purpose network"
   ]
  },
  {
   "cell_type": "markdown",
   "metadata": {
    "slideshow": {
     "slide_type": "slide"
    }
   },
   "source": [
    "# Part 1: TensorFlow"
   ]
  },
  {
   "cell_type": "markdown",
   "metadata": {},
   "source": [
    "<center><img src=\"assets/tf_arch.png\" width=\"60%\"/></center>"
   ]
  },
  {
   "cell_type": "markdown",
   "metadata": {
    "cell_style": "center",
    "slideshow": {
     "slide_type": "slide"
    }
   },
   "source": [
    "## TF ingredients\n",
    "\n",
    "1. NumPy-like array structure with vectorized operations: `Tensor`"
   ]
  },
  {
   "cell_type": "code",
   "execution_count": 5,
   "metadata": {},
   "outputs": [
    {
     "name": "stdout",
     "output_type": "stream",
     "text": [
      "tf.Tensor([0 1 2 3 4], shape=(5,), dtype=int32)\n",
      "tf.Tensor([0 2 4 6 8], shape=(5,), dtype=int32)\n",
      "tf.Tensor(\n",
      "[[ 0  1  2  3  4]\n",
      " [-1  0  1  2  3]\n",
      " [-2 -1  0  1  2]\n",
      " [-3 -2 -1  0  1]\n",
      " [-4 -3 -2 -1  0]], shape=(5, 5), dtype=int32)\n"
     ]
    }
   ],
   "source": [
    "t = tf.range(5)\n",
    "print(t)\n",
    "\n",
    "# all elements * 2\n",
    "print(t * 2)\n",
    "\n",
    "# column - row vector\n",
    "print(t - tf.transpose(tf.reshape(t, (1, 5)), [1, 0]))  # \"broadcasting\""
   ]
  },
  {
   "cell_type": "markdown",
   "metadata": {
    "slideshow": {
     "slide_type": "slide"
    }
   },
   "source": [
    "## TF ingredients\n",
    "\n",
    "2. Built-in neural network operations ([docs](https://www.tensorflow.org/api_docs/python/tf/nn))"
   ]
  },
  {
   "cell_type": "code",
   "execution_count": 6,
   "metadata": {
    "scrolled": true
   },
   "outputs": [
    {
     "name": "stdout",
     "output_type": "stream",
     "text": [
      "tf.Tensor(\n",
      "[[[0.09015217 0.90984786]\n",
      "  [0.7112655  0.28873447]\n",
      "  [0.43256757 0.56743246]\n",
      "  [0.12077552 0.8792245 ]]], shape=(1, 4, 2), dtype=float32)\n",
      "tf.Tensor(4.0, shape=(), dtype=float32)\n",
      "tf.Tensor(\n",
      "[[[-0.8617812   0.33286119]\n",
      "  [ 1.0138214   0.11228305]\n",
      "  [ 0.26089573  0.53227895]\n",
      "  [-0.6365267   0.97305715]]], shape=(1, 4, 2), dtype=float32)\n",
      "tf.Tensor(\n",
      "[[[-1.6460559  -1.6460559 ]\n",
      "  [ 1.1261044   1.1261044 ]\n",
      "  [ 0.7931747   0.7931747 ]\n",
      "  [-0.03899229 -0.03899229]]], shape=(1, 4, 2), dtype=float32)\n"
     ]
    }
   ],
   "source": [
    "t = tf.random.normal((1, 4, 2), mean=0.5)\n",
    "\n",
    "# softmax activation\n",
    "print(tf.nn.softmax(t))\n",
    "print(tf.reduce_sum(tf.nn.softmax(t)))\n",
    "\n",
    "# elu activation\n",
    "print(tf.nn.elu(t))\n",
    "\n",
    "# 1d convolution\n",
    "print(tf.nn.conv1d(t, tf.ones((1, 2, 2)), stride=1, padding=\"VALID\"))"
   ]
  },
  {
   "cell_type": "markdown",
   "metadata": {
    "slideshow": {
     "slide_type": "slide"
    }
   },
   "source": [
    "## TF ingredients\n",
    "\n",
    "3. Automatic differentiation using the so-called `GradientTape` ([docs](https://www.tensorflow.org/guide/autodiff))"
   ]
  },
  {
   "cell_type": "code",
   "execution_count": 7,
   "metadata": {},
   "outputs": [
    {
     "name": "stdout",
     "output_type": "stream",
     "text": [
      "tf.Tensor(\n",
      "[[ -3.3442042  -3.138482 ]\n",
      " [ -6.6884084  -6.276964 ]\n",
      " [-10.032613   -9.415446 ]], shape=(3, 2), dtype=float32)\n",
      "tf.Tensor([-3.3442042 -3.138482 ], shape=(2,), dtype=float32)\n"
     ]
    }
   ],
   "source": [
    "x = [[1., 2., 3.]]  # some generic input\n",
    "\n",
    "# define variables of a model\n",
    "w = tf.Variable(tf.random.normal((3, 2)))\n",
    "b = tf.Variable(tf.zeros(2, dtype=tf.float32))\n",
    "\n",
    "# compute a loss and record gradients\n",
    "with tf.GradientTape(persistent=True) as tape:\n",
    "  y = x @ w + b\n",
    "  loss = tf.reduce_mean(y**2)\n",
    "\n",
    "dl_dw, dl_db = tape.gradient(loss, [w, b])\n",
    "print(dl_dw)  # loss derived w.r.t. w\n",
    "print(dl_db)  # loss derived w.r.t. b"
   ]
  },
  {
   "cell_type": "markdown",
   "metadata": {
    "slideshow": {
     "slide_type": "slide"
    }
   },
   "source": [
    "## TF ingredients\n",
    "\n",
    "4. High-level device placement (e.g. GPUs) ([docs](https://www.tensorflow.org/guide/gpu))"
   ]
  },
  {
   "cell_type": "code",
   "execution_count": 8,
   "metadata": {},
   "outputs": [
    {
     "name": "stdout",
     "output_type": "stream",
     "text": [
      "tf.Tensor(\n",
      "[[22. 28.]\n",
      " [49. 64.]], shape=(2, 2), dtype=float32)\n"
     ]
    }
   ],
   "source": [
    "# place tensors on the CPU\n",
    "with tf.device(\"/CPU:0\"):\n",
    "  a = tf.constant([[1.0, 2.0, 3.0], [4.0, 5.0, 6.0]])\n",
    "  b = tf.constant([[1.0, 2.0], [3.0, 4.0], [5.0, 6.0]])\n",
    "\n",
    "# run on the GPU\n",
    "with tf.device(\"/GPU:0\"):\n",
    "    c = tf.matmul(a, b)\n",
    "    print(c)"
   ]
  },
  {
   "cell_type": "markdown",
   "metadata": {
    "slideshow": {
     "slide_type": "slide"
    }
   },
   "source": [
    "## TF ingredients\n",
    "\n",
    "5. High-level API for building networks: Keras ([great introduction](https://keras.io/getting_started/intro_to_keras_for_researchers/))"
   ]
  },
  {
   "cell_type": "code",
   "execution_count": 9,
   "metadata": {},
   "outputs": [],
   "source": [
    "# define a (64 x 128 x 128 x 2) NN\n",
    "x = tf.keras.Input(shape=(64,))\n",
    "a1 = tf.keras.layers.Dense(128, activation=\"tanh\")(x)\n",
    "a2 = tf.keras.layers.Dense(128, activation=\"tanh\")(a1)\n",
    "y = tf.keras.layers.Dense(2, activation=\"softmax\")(a2)\n",
    "model = tf.keras.Model(inputs=x, outputs=y)\n",
    "\n",
    "# train it\n",
    "model.fit(examples, labels, batch_size=256, epochs=5)"
   ]
  },
  {
   "cell_type": "markdown",
   "metadata": {
    "slideshow": {
     "slide_type": "slide"
    }
   },
   "source": [
    "# Part 2: NN terminology refresher"
   ]
  },
  {
   "cell_type": "markdown",
   "metadata": {
    "cell_style": "center"
   },
   "source": [
    "Before we dive in, let's quickly introduce a minimal set of NN terminology. Please note that a full introduction into machine learning would be too exhaustive at this point. For more insights, checkout one of the many resources that are publically available.\n",
    "\n",
    "One of many examples of a well written introduction that even includes code examples and interactive visualizations is the free online book at [neuralnetworksanddeeplearning.com](http://neuralnetworksanddeeplearning.com)."
   ]
  },
  {
   "cell_type": "markdown",
   "metadata": {},
   "source": [
    "<center><img src=\"assets/nn_graph.png\" width=\"60%\"/></center>"
   ]
  },
  {
   "cell_type": "markdown",
   "metadata": {
    "cell_style": "center"
   },
   "source": [
    "- NNs are structured into so-called **layers** that contain **units**.\n",
    "- We denote the **input layer** with $l = 0$, and the **output layer** with $l = L$.\n",
    "- When the number of input features we give to the network is $N$, then the input layer will have $N$ units.\n",
    "- The grey circles in the graph denote **bias units**. Their value is always one to allow for some numeric independence (see below).\n",
    "- These $N$ input values are **forward passed** to layer $l = 1$. We do not intend to directly feed values into it, nor do we manually extract its output values - hence we call it **hidden layer**.\n",
    "- The forward pass involves **weights** - these are free parameters, which are updated during training, and can be understood as *fit parameters*. NNs with O(100k) parameters are not uncommon!\n",
    "- The input to the *i-th* unit in layer $l = 1$, $z_i^l$, is simply the scalar product of the vector of input features and a vector of weights $W_{ij}^{l-1}$,\n",
    "\\begin{align}\n",
    "z_i^l &= \\sum_j W_{ij}^{l-1} \\cdot a_j^{l-1} + b_i^{l-1}\\\\\n",
    "\\Rightarrow z^l &= W^{l-1} \\cdot a^{l-1} + b^{l-1}\n",
    "\\end{align}\n",
    "where the bias unit is considered as an additional input with value 1, multiplied by the weight $b_j^{l-1}$. Each particular value of $W_{ij}^{l-1}$ and $b_j^{l-1}$ is represented by arrows in the diagram. The second line uses a **vectorized formulation** over all $1 \\leq j \\leq N$ inputs.\n",
    "- The output $a_i^l$ of this unit is the value of an [**activation** function](https://en.wikipedia.org/wiki/Activation_function) $\\sigma$, evaluated at its input $z_i^l$. This reads\n",
    "$$\n",
    "\\begin{align}\n",
    "a^l = \\sigma^l(z^l) = \\sigma_l(W^{l-1} \\cdot a^{l-1} + b^{l-1})\n",
    "\\end{align}\n",
    "$$\n",
    "in the vectorial form. The same function is applied to all units in the same layer.\n",
    "- Just like what we did with the input features, these output values can be propagated through the entire network up to the output layer $l = L$. Here, we choose a clever activation function to output the response $y$ that we like the network to learn (more on this later).\n",
    "- As a whole, we can see the network output $y$ as a function of $x$, given $W$ and $b$. Thus, we can write\n",
    "$$\n",
    "\\begin{align}\n",
    "y = y(x | \\underbrace{W,b}_{\\equiv\\ \\omega}) = \\underbrace{(a^L \\circ a^{L-1} \\circ \\dots \\circ a^1)_\\omega}_\\text{model} (x)\n",
    "\\end{align}\n",
    "$$\n",
    "and identify the **model** as the concatenation of all layers given the free parameters $\\omega$.\n",
    "- Besides the clear mathematical construction and rules to perform the forward pass, you might notice some *room for choices*, such as the number of hidden layers, the amount of units per layer, or the activation functions. These are called **hyper-parameters** and it is your task to understand your input data as well as the problem you want to solve, and adjust these parameters in a educated fashion to optimize the network performance.\n",
    "- It is this exploration of the huge **space** of hyper-parameters what makes working with NNs complex and exciting at the same time 🎭!"
   ]
  },
  {
   "cell_type": "markdown",
   "metadata": {
    "slideshow": {
     "slide_type": "slide"
    }
   },
   "source": [
    "## Training, overtraining and data splitting"
   ]
  },
  {
   "cell_type": "markdown",
   "metadata": {},
   "source": [
    "## Network training\n",
    "\n",
    "A comprehensive desription and explanantion of the *art* of NN training requires a collection of concepts and mathematical proofs that would by far reach beyond the scope of this tutorial. However, if you intend to apply machine learning techniques in the future, it is **highly recommended** to dive into this fascinating topic. Especially the formulation and proof of the **backpropagation** algorithm is of major importance as it paved the way of actual **deep** neural networks! A good place to start is the free online book at [neuralnetworksanddeeplearning.com](http://neuralnetworksanddeeplearning.com)."
   ]
  },
  {
   "cell_type": "markdown",
   "metadata": {
    "slideshow": {
     "slide_type": "slide"
    }
   },
   "source": [
    "## Overtraining\n",
    "\n",
    "During training, a NN receives *examples* in the form of vectors of input features and produces a prediction which can be compared to the *true* value one would expect. Based on the difference between prediction and expectation (in whatever way *difference* is defined), the network receives an either good or bad feedback that is used to update its trainable parameters, ideally leading to an improvement in the next iteration.\n",
    "\n",
    "However, this process can have some caveats! When the amount of available training examples is very limited, chances are that they might not describe underlying probability distributions with sufficient precision. As a result, the NN might start to develop a bias towards this particular set of examples. Then, after the training phase, when the NN is requested to evaluate examples that it never *saw* before, its ability to infer predictions might differ greatly from what you observed during training. The model fails to **generalize**, which is referred to as **overtraining**."
   ]
  },
  {
   "cell_type": "markdown",
   "metadata": {
    "slideshow": {
     "slide_type": "slide"
    }
   },
   "source": [
    "## Network capacity\n",
    "\n",
    "<center><img src=\"assets/nn_capacity.png\" width=\"60%\"/></center>"
   ]
  },
  {
   "cell_type": "markdown",
   "metadata": {
    "slideshow": {
     "slide_type": "slide"
    }
   },
   "source": [
    "## Data splitting\n",
    "\n",
    "There are several techniques to monitor and prevent overtraining. One **mandatory** monitoring technique is data splitting. In its easiest form, the entirety of examples is split into three datasets:\n",
    "\n",
    "- The *training* dataset is used for the actual training procedure.\n",
    "- The *validation* dataset is **not** used **for** the training itself, but **during** the training to immediately monitor the NN's ability to generalize.\n",
    "- All actual measurements are performed on an independent *testing* dataset.\n",
    "\n",
    "This splitting is applied throughout this exercise!"
   ]
  },
  {
   "cell_type": "markdown",
   "metadata": {
    "slideshow": {
     "slide_type": "slide"
    }
   },
   "source": [
    "# Part 3: Tutorial dataset"
   ]
  },
  {
   "cell_type": "markdown",
   "metadata": {
    "cell_style": "split"
   },
   "source": [
    "The input data for this tutorial consists of 1 million jets, originating from either\n",
    "  - hadronically decaying top quarks (our **signal** ✔︎), or\n",
    "  - dijet QCD events (our **background** ✘),\n",
    " \n",
    "and clustered using the $k_{T}$ algorithm with $\\Delta R$ = 0.8.\n",
    "\n",
    "<br />\n",
    "\n",
    "Data was generated using Phythia & Delphes, configured\n",
    "  - to collide protons at 14 TeV center-of-mass energy,\n",
    "  - to generate jets with a $p_{T}$ range of [550, 650] GeV (before hadronization ❗️), and\n",
    "  - **without** mixing in pileup events for simplicity."
   ]
  },
  {
   "cell_type": "markdown",
   "metadata": {
    "cell_style": "split"
   },
   "source": [
    "<center><img src=\"assets/top_vs_qcd.png\" width=\"60%\"/></center>"
   ]
  },
  {
   "cell_type": "markdown",
   "metadata": {
    "cell_style": "split",
    "slideshow": {
     "slide_type": "slide"
    }
   },
   "source": [
    "### Input features\n",
    "\n",
    "Per jet, you are given the four-vectors of up to **200** of its *constituents* (i.e., the particles that form the jet by means of clustering).\n",
    "\n",
    "   - These up to 800 values define your **input features**.\n",
    "   - Note that not all jets have that many constituents❗️\n",
    "   - To spare you the trouble of working with uneven (so-called *jagged*) arrays, these \"missing\" constituents vectors are filled with zeros."
   ]
  },
  {
   "cell_type": "markdown",
   "metadata": {
    "cell_style": "split"
   },
   "source": [
    "### Training targets\n",
    "\n",
    "Per jet, you are provided 2 different training targets:\n",
    "\n",
    "  1. A flag that marks the true origin of the jet \n",
    "    - `1` for jets from top quark decays\n",
    "    - `0` for light jets from QCD events\n",
    "  2. The true four-vector of the initial particle (only for top quarks)\n",
    " \n",
    "For now, we will focus on the **1.** training target to perform a *classification* to answer the question: **Top or not?**\n",
    "\n",
    "(Spoiler: the second target is used later on to include an energy regression 🤫)"
   ]
  },
  {
   "cell_type": "markdown",
   "metadata": {
    "cell_style": "center",
    "slideshow": {
     "slide_type": "slide"
    }
   },
   "source": [
    "## Diving into the data\n",
    "\n",
    "Let's check out the data! It is stored in NumPy arrays across several files, with 50k jets per file. This way, prototyping and test runs are way quicker. You are given\n",
    "\n",
    "- 20 training files (`\"train\"`)\n",
    "- 8 validation files (`\"valid\"`)\n",
    "- 8 testing files (`\"test\"`)\n",
    "\n",
    "A few tools to perform recurrent tasks such as data loading are available in the dedicated `qutf` package. Let's import all packages we need during this tutorial and load two training files and inspect the contents.\n",
    "\n",
    "(you can neglect messages from matplotlib about creating the font cache)"
   ]
  },
  {
   "cell_type": "code",
   "execution_count": 10,
   "metadata": {
    "slideshow": {
     "slide_type": "slide"
    }
   },
   "outputs": [
    {
     "data": {
      "text/plain": [
       "((100000, 200, 4), (100000, 4), (100000,))"
      ]
     },
     "execution_count": 10,
     "metadata": {},
     "output_type": "execute_result"
    }
   ],
   "source": [
    "# load the content of two \"train\" files\n",
    "c_vectors, true_vectors, labels = qutf.data.load(\"train\", start_file=0, stop_file=2)\n",
    "c_vectors.shape, true_vectors.shape, labels.shape"
   ]
  },
  {
   "cell_type": "markdown",
   "metadata": {},
   "source": [
    "All arrays have 100k (2 files x 50k jets) *rows* (dimension 0).\n",
    "\n",
    "- Per jet, we have up to 200 constituents (`c_vectors`) with 4 variables ($E$, $p_x$, $p_y$, $p_z$) each, thus `(200, 4)`.\n",
    "- Consistently, `true_vectors` only has 4 values per jet.\n",
    "- The `labels`, however, are single values.\n",
    "\n",
    "Let's create a few plots to get some insights into our data."
   ]
  },
  {
   "cell_type": "code",
   "execution_count": 11,
   "metadata": {},
   "outputs": [],
   "source": [
    "# define some flags to make four-vector element access more verbose\n",
    "E, PX, PY, PZ = range(4)\n",
    "jet_names = (\"Top jet\", \"QCD jets\")\n",
    "is_top = labels == 1\n",
    "is_qcd = labels != 1"
   ]
  },
  {
   "cell_type": "markdown",
   "metadata": {
    "slideshow": {
     "slide_type": "slide"
    }
   },
   "source": [
    "## Truth distributions"
   ]
  },
  {
   "cell_type": "code",
   "execution_count": 12,
   "metadata": {
    "cell_style": "center"
   },
   "outputs": [
    {
     "data": {
      "image/png": "[encoded data removed]",
      "text/plain": [
       "<Figure size 432x288 with 1 Axes>"
      ]
     },
     "metadata": {
      "needs_background": "light"
     },
     "output_type": "display_data"
    }
   ],
   "source": [
    "# distribution of truth labels\n",
    "qutf.plots.plot_hist(\n",
    "    (labels[is_top], labels[is_qcd]),\n",
    "    range=(0, 1),\n",
    "    names=jet_names,\n",
    "    xlabel=\"Label distribution\",\n",
    ").show()"
   ]
  },
  {
   "cell_type": "code",
   "execution_count": 13,
   "metadata": {
    "cell_style": "center"
   },
   "outputs": [
    {
     "data": {
      "image/png": "[encoded data removed]",
      "text/plain": [
       "<Figure size 432x288 with 1 Axes>"
      ]
     },
     "metadata": {
      "needs_background": "light"
     },
     "output_type": "display_data"
    }
   ],
   "source": [
    "# energy distribution of the true top quark particle\n",
    "# remember, this is only available for top jets (zero otherwise)\n",
    "qutf.plots.plot_hist(\n",
    "    true_vectors[is_top, E],\n",
    "    names=(\"Top jets\",),\n",
    "    xlabel=\"True energy / GeV\",\n",
    ").show()"
   ]
  },
  {
   "cell_type": "code",
   "execution_count": 14,
   "metadata": {
    "cell_style": "center"
   },
   "outputs": [
    {
     "data": {
      "image/png": "[encoded data removed]",
      "text/plain": [
       "<Figure size 432x288 with 1 Axes>"
      ]
     },
     "metadata": {
      "needs_background": "light"
     },
     "output_type": "display_data"
    }
   ],
   "source": [
    "# px distribution of the true particle\n",
    "qutf.plots.plot_hist(\n",
    "    true_vectors[is_top, PX],\n",
    "    names=(\"Top jets\",),\n",
    "    xlabel=\"True $p_x$ / GeV\",\n",
    ").show()"
   ]
  },
  {
   "cell_type": "code",
   "execution_count": 15,
   "metadata": {
    "cell_style": "center",
    "scrolled": true
   },
   "outputs": [
    {
     "data": {
      "image/png": "[encoded data removed]",
      "text/plain": [
       "<Figure size 432x288 with 1 Axes>"
      ]
     },
     "metadata": {
      "needs_background": "light"
     },
     "output_type": "display_data"
    }
   ],
   "source": [
    "# mass distribution of the true particle\n",
    "mass = (true_vectors[:, E]**2 - np.sum(true_vectors[:, PX:]**2, axis=1))**0.5 \n",
    "qutf.plots.plot_hist(\n",
    "    mass[is_top],\n",
    "    names=(\"Top jets\",),\n",
    "    xlabel=\"True mass / GeV\",\n",
    "    log=True,\n",
    ").show()"
   ]
  },
  {
   "cell_type": "markdown",
   "metadata": {},
   "source": [
    "Yep, this is a top!"
   ]
  },
  {
   "cell_type": "markdown",
   "metadata": {
    "slideshow": {
     "slide_type": "slide"
    }
   },
   "source": [
    "## Input feature distributions"
   ]
  },
  {
   "cell_type": "code",
   "execution_count": 16,
   "metadata": {
    "cell_style": "center",
    "scrolled": true
   },
   "outputs": [
    {
     "data": {
      "image/png": "[encoded data removed]",
      "text/plain": [
       "<Figure size 432x288 with 1 Axes>"
      ]
     },
     "metadata": {
      "needs_background": "light"
     },
     "output_type": "display_data"
    }
   ],
   "source": [
    "# energy distribution of all constituents\n",
    "e_c_top = c_vectors[is_top, :, E].flatten()\n",
    "e_c_qcd = c_vectors[is_qcd, :, E].flatten()\n",
    "# store a mask to remove zeros\n",
    "non_zero_top = e_c_top != 0\n",
    "non_zero_qcd = e_c_qcd != 0\n",
    "\n",
    "qutf.plots.plot_hist(\n",
    "    (e_c_top[non_zero_top], e_c_qcd[non_zero_qcd]),\n",
    "    names=jet_names,\n",
    "    log=True,\n",
    "    xlabel=\"Constituents energy / GeV\",\n",
    ").show()"
   ]
  },
  {
   "cell_type": "code",
   "execution_count": 17,
   "metadata": {
    "cell_style": "center"
   },
   "outputs": [
    {
     "data": {
      "image/png": "[encoded data removed]",
      "text/plain": [
       "<Figure size 432x288 with 1 Axes>"
      ]
     },
     "metadata": {
      "needs_background": "light"
     },
     "output_type": "display_data"
    }
   ],
   "source": [
    "# px distribution of all constituents, zeros removed with the mask defined above\n",
    "px_c_top = c_vectors[is_top, :, PX].flatten()\n",
    "px_c_qcd = c_vectors[is_qcd, :, PX].flatten()\n",
    "\n",
    "qutf.plots.plot_hist(\n",
    "    (px_c_top[non_zero_top], px_c_qcd[non_zero_qcd]),\n",
    "    names=jet_names,\n",
    "    log=True,\n",
    "    xlabel=\"Constituents $p_x$ / GeV\",\n",
    ").show()"
   ]
  },
  {
   "cell_type": "code",
   "execution_count": 18,
   "metadata": {
    "cell_style": "center"
   },
   "outputs": [
    {
     "data": {
      "image/png": "[encoded data removed]",
      "text/plain": [
       "<Figure size 432x288 with 1 Axes>"
      ]
     },
     "metadata": {
      "needs_background": "light"
     },
     "output_type": "display_data"
    }
   ],
   "source": [
    "# pz distribution of all constituents\n",
    "pz_c_top = c_vectors[is_top, :, PZ].flatten()\n",
    "pz_c_qcd = c_vectors[is_qcd, :, PZ].flatten()\n",
    "qutf.plots.plot_hist(\n",
    "    (pz_c_top[non_zero_top], pz_c_qcd[non_zero_qcd]),\n",
    "    names=jet_names,\n",
    "    log=True,\n",
    "    xlabel=\"Constituents $p_z$ / GeV\",\n",
    ").show()"
   ]
  },
  {
   "cell_type": "code",
   "execution_count": 19,
   "metadata": {},
   "outputs": [
    {
     "data": {
      "image/png": "[encoded data removed]",
      "text/plain": [
       "<Figure size 432x288 with 1 Axes>"
      ]
     },
     "metadata": {
      "needs_background": "light"
     },
     "output_type": "display_data"
    }
   ],
   "source": [
    "# number of constituents per jet\n",
    "# remember, missing constituents are filled with zeros, so we take the energy value as a marker\n",
    "n_c_top = np.count_nonzero(c_vectors[is_top, :, E], axis=1)\n",
    "n_c_qcd = np.count_nonzero(c_vectors[is_qcd, :, E], axis=1)\n",
    "qutf.plots.plot_hist((n_c_top, n_c_qcd), names=jet_names, xlabel=\"N constituents per jet\").show()"
   ]
  },
  {
   "cell_type": "markdown",
   "metadata": {
    "slideshow": {
     "slide_type": "slide"
    }
   },
   "source": [
    "## Lessons learned\n",
    "\n",
    "Altough you were promised *up to* 200 constituents per jet, only a few of them seem to have more than 100 constituents!\n",
    "\n",
    "Expect these *findings*, but don't interpret anything as bad intention 😉 The work packages of large-scale analysis are often shared and spread among multiple people, working groups and institutes. Staying on top of things is naturally a complex part, so communication and documentation is - as always - key!\n",
    "\n",
    "Ok, so now that we understood the data, it would not make sense to include all these zeros in a network training. We can safely pick only the first, say, **120 constituents**."
   ]
  },
  {
   "cell_type": "markdown",
   "metadata": {
    "slideshow": {
     "slide_type": "slide"
    }
   },
   "source": [
    "# Part 4: Minimal training and evaluation workflow"
   ]
  },
  {
   "cell_type": "markdown",
   "metadata": {},
   "source": [
    "Before creating a full-blown training setup, let's first do a quickshot. This helps us to understand how a model is built, trained, and eventually evaluated. We can also already define a few plot methods to assess the performance.\n",
    "\n",
    "For this purpose, we use TensorFlow with the Keras high level API in its [functional version](https://keras.io/guides/functional_api)."
   ]
  },
  {
   "cell_type": "code",
   "execution_count": 20,
   "metadata": {},
   "outputs": [],
   "source": [
    "# first, we define a preprocessing function that (e.g.) takes the\n",
    "# constiuents and returns an other representation of them\n",
    "# in this case, we select only the first 120 constituents and\n",
    "# flatten the resulting array from (..., 120, 4) to (..., 480,)\n",
    "def preprocess_constituents(constituents):\n",
    "    return constituents[:, :120].reshape((-1, 480))"
   ]
  },
  {
   "cell_type": "code",
   "execution_count": 21,
   "metadata": {},
   "outputs": [],
   "source": [
    "# also, for the training we need to convert the label to a \"one-hot\" representation\n",
    "# 0. -> [1., 0.]\n",
    "# 1. -> [0., 1.]\n",
    "def labels_to_onehot(labels):\n",
    "    labels = labels.astype(np.int32)\n",
    "    onehot = np.zeros((labels.shape[0], labels.max() + 1), dtype=np.float32)\n",
    "    onehot[np.arange(labels.shape[0]), labels] = 1\n",
    "    return onehot"
   ]
  },
  {
   "cell_type": "code",
   "execution_count": 22,
   "metadata": {},
   "outputs": [],
   "source": [
    "# define the model generating function\n",
    "# - 2 hidden layers\n",
    "# - 128 units each\n",
    "# - tanh activation\n",
    "# - 2 output units with softmax activation\n",
    "# (applies exp() to outputs and normalizes sum of all outputs to 1)\n",
    "def create_model():\n",
    "    x = tf.keras.Input(shape=(480,))\n",
    "    a1 = tf.keras.layers.Dense(128, use_bias=True, activation=\"tanh\")(x)\n",
    "    a2 = tf.keras.layers.Dense(128, use_bias=True, activation=\"tanh\")(a1)\n",
    "    y = tf.keras.layers.Dense(2, use_bias=True, activation=\"softmax\")(a2)\n",
    "    return tf.keras.Model(inputs=x, outputs=y, name=\"toptagging_quickshot\")"
   ]
  },
  {
   "cell_type": "code",
   "execution_count": 23,
   "metadata": {},
   "outputs": [
    {
     "name": "stdout",
     "output_type": "stream",
     "text": [
      "Model: \"toptagging_quickshot\"\n",
      "_________________________________________________________________\n",
      "Layer (type)                 Output Shape              Param #   \n",
      "=================================================================\n",
      "input_2 (InputLayer)         [(None, 480)]             0         \n",
      "_________________________________________________________________\n",
      "dense_3 (Dense)              (None, 128)               61568     \n",
      "_________________________________________________________________\n",
      "dense_4 (Dense)              (None, 128)               16512     \n",
      "_________________________________________________________________\n",
      "dense_5 (Dense)              (None, 2)                 258       \n",
      "=================================================================\n",
      "Total params: 78,338\n",
      "Trainable params: 78,338\n",
      "Non-trainable params: 0\n",
      "_________________________________________________________________\n"
     ]
    }
   ],
   "source": [
    "# create the actual model\n",
    "model = create_model()\n",
    "model.summary()"
   ]
  },
  {
   "cell_type": "code",
   "execution_count": 24,
   "metadata": {},
   "outputs": [
    {
     "data": {
      "text/plain": [
       "array([[0.5, 0.5]], dtype=float32)"
      ]
     },
     "execution_count": 24,
     "metadata": {},
     "output_type": "execute_result"
    }
   ],
   "source": [
    "# let's see what happens when we call it with zeros\n",
    "# note: here we create zeros in the shape (1, 480)\n",
    "# where the leading one marks the *batch size*,\n",
    "# i.e. the number of examples that are simultaneously fed\n",
    "# into the network to benefit from clever vectorization\n",
    "t = model.predict(np.zeros((1, 480)))\n",
    "t"
   ]
  },
  {
   "cell_type": "markdown",
   "metadata": {},
   "source": [
    "This produces a TensorFlow `Tensor` object - an [*eager*](https://www.tensorflow.org/guide/eager) tensor to be precise. It *almost* feels and behaves like a NumPy array, except for a few differences that you will stumble upon very soon on your own ...\n",
    "To extract a true NumPy representation of its data, feel free to call `t.numpy()`. However, for writing performant, GPU compatible NNs, the use of the `Tensor` API is mandatory.\n",
    "\n",
    "The return value is `[0.5, 0.5]`. This means that, given a vector of input features consisting only of zeros, the network is unsure whether to assign it to the signal class (top jets) nor to the background class (light jets). This is totally reasonable as we haven't trained it yet. So let's do that!"
   ]
  },
  {
   "cell_type": "code",
   "execution_count": 25,
   "metadata": {},
   "outputs": [],
   "source": [
    "# load more training, and also validation data\n",
    "# (increase the numbers if your system allows it)\n",
    "c_vectors_train, _, labels_train = qutf.data.load(\"train\", stop_file=2)\n",
    "c_vectors_valid, _, labels_valid = qutf.data.load(\"valid\", stop_file=1)\n",
    "\n",
    "# run the preprocessing\n",
    "c_vectors_train = preprocess_constituents(c_vectors_train)\n",
    "c_vectors_valid = preprocess_constituents(c_vectors_valid)\n",
    "\n",
    "# create one-hot labels\n",
    "labels_train = labels_to_onehot(labels_train)\n",
    "labels_valid = labels_to_onehot(labels_valid)"
   ]
  },
  {
   "cell_type": "code",
   "execution_count": 26,
   "metadata": {},
   "outputs": [],
   "source": [
    "# compile the model\n",
    "# this means that the internal computational graph structure is built,\n",
    "# the loss function (the function that provides the feedback by comparing\n",
    "# expected and predicted result, more on that later), and metrics are\n",
    "# registered that are shown during the training\n",
    "model.compile(\n",
    "    loss=tf.keras.losses.BinaryCrossentropy(from_logits=True),\n",
    "    optimizer=tf.keras.optimizers.Adam(),\n",
    "    metrics=[\"accuracy\"],\n",
    ")"
   ]
  },
  {
   "cell_type": "code",
   "execution_count": 27,
   "metadata": {},
   "outputs": [
    {
     "data": {
      "image/png": "[encoded data removed]",
      "text/plain": [
       "<Figure size 576x288 with 2 Axes>"
      ]
     },
     "metadata": {
      "needs_background": "light"
     },
     "output_type": "display_data"
    },
    {
     "name": "stdout",
     "output_type": "stream",
     "text": [
      "\b\b\b\b\b\b\b\b\b\b\b\b\b\b\b\b\b\b\b\b\b\b\b\b\b\b\b\b\b\b\b\b\b\b\b\b\b\b\b\b\b\b\b\b\b\b\b\b\b\b\b\b\b\b\b\b\b\b\b\b\b\b\b\b\b\b\b\b\b\b\b\b\b\b\b\b\b\b\b\b\b\b\b\b\b\b\r",
      "1000/1000 [==============================] - 3s 3ms/step - loss: 0.6492 - accuracy: 0.7047\n"
     ]
    },
    {
     "data": {
      "text/plain": [
       "<tensorflow.python.keras.callbacks.History at 0x7feaa6056978>"
      ]
     },
     "execution_count": 27,
     "metadata": {},
     "output_type": "execute_result"
    }
   ],
   "source": [
    "# start the training for 5 epochs (running through all data 5 times)\n",
    "model.fit(\n",
    "    c_vectors_train,\n",
    "    labels_train,\n",
    "    batch_size=100,\n",
    "    epochs=5,\n",
    "    callbacks=[llp.PlotLossesKerasTF(outputs=[llp.outputs.MatplotlibPlot(cell_size=(4, 2))])],\n",
    ")"
   ]
  },
  {
   "cell_type": "markdown",
   "metadata": {
    "slideshow": {
     "slide_type": "slide"
    }
   },
   "source": [
    "### Performance\n",
    "\n",
    "We ended up with an accuracy of about 70%, which is already quite good for such a small network (and lot's of important things we did not even consider yet ...)!\n",
    "\n",
    "Let's check if the model generalized by evaluating the validation data and manually computing the accuracy."
   ]
  },
  {
   "cell_type": "code",
   "execution_count": 28,
   "metadata": {},
   "outputs": [],
   "source": [
    "# evaluate all training and validation data again for further study\n",
    "predictions_train = model.predict(c_vectors_train)\n",
    "predictions_valid = model.predict(c_vectors_valid)"
   ]
  },
  {
   "cell_type": "code",
   "execution_count": 29,
   "metadata": {},
   "outputs": [],
   "source": [
    "# determine the accuracy\n",
    "def calculate_accuracy(labels, predictions):\n",
    "    # while the labels (NumPy array) are one-hot encoded,\n",
    "    # each prediction (TF tensor) consists of two numbers whose sum is 1,\n",
    "    # so we interpret the prediction to be the signal when the second value (index 1) is > 0.5\n",
    "    # hence, we can use argmax\n",
    "    predicteds_top = np.argmax(predictions, axis=-1) == 1\n",
    "    labels_top = labels[:, 1] == 1\n",
    "    return (predicteds_top == labels_top).mean()"
   ]
  },
  {
   "cell_type": "code",
   "execution_count": 30,
   "metadata": {},
   "outputs": [
    {
     "name": "stdout",
     "output_type": "stream",
     "text": [
      "train accuracy: 0.7081\n",
      "valid accuracy: 0.7069\n"
     ]
    }
   ],
   "source": [
    "acc_train = calculate_accuracy(labels_train, predictions_train)\n",
    "acc_valid = calculate_accuracy(labels_valid, predictions_valid)\n",
    "\n",
    "print(f\"train accuracy: {acc_train:.4f}\")\n",
    "print(f\"valid accuracy: {acc_valid:.4f}\")"
   ]
  },
  {
   "cell_type": "markdown",
   "metadata": {},
   "source": [
    "This looks fairly similar, so for now, we don't seem to experience overtraining.\n",
    "\n",
    "We proceed by taking a look at the output distributions of the validation dataset, separated into signal and background components. Since we are dealing with a binary classification, and the sum of the two output values is normalized to one, it is sufficient to inspect just one of the output nodes. Since our goal is to identify signal, we look at the second column with index 1 (note that the same is considered in the accuracy calculation above)."
   ]
  },
  {
   "cell_type": "code",
   "execution_count": 31,
   "metadata": {},
   "outputs": [
    {
     "data": {
      "image/png": "[encoded data removed]",
      "text/plain": [
       "<Figure size 432x288 with 1 Axes>"
      ]
     },
     "metadata": {
      "needs_background": "light"
     },
     "output_type": "display_data"
    }
   ],
   "source": [
    "qutf.plots.plot_hist(\n",
    "    (predictions_valid[labels_valid == 0], predictions_valid[labels_valid == 1]),\n",
    "    names=(\"Light jets\", \"Top jets\"),\n",
    "    xlabel=\"Output distribution\",\n",
    "    log=True,\n",
    ").show()"
   ]
  },
  {
   "cell_type": "markdown",
   "metadata": {},
   "source": [
    "Besides the classification accuracy, we can study the *receiver operating characteristic* curve or **ROC** curve. It shows the relation between the true positive (jets *correctly* identified as top jets) and false positive rates (light jets *mistaken* as a top jets)."
   ]
  },
  {
   "cell_type": "code",
   "execution_count": 32,
   "metadata": {
    "cell_style": "center",
    "slideshow": {
     "slide_type": "-"
    }
   },
   "outputs": [
    {
     "data": {
      "image/png": "[encoded data removed]",
      "text/plain": [
       "<Figure size 432x288 with 1 Axes>"
      ]
     },
     "metadata": {
      "needs_background": "light"
     },
     "output_type": "display_data"
    }
   ],
   "source": [
    "# do the roc plot\n",
    "qutf.plots.plot_roc(\n",
    "    (labels_train, labels_valid),\n",
    "    (predictions_train, predictions_valid),\n",
    "    names=(\"train\", \"valid\"),\n",
    ").show()"
   ]
  },
  {
   "cell_type": "markdown",
   "metadata": {
    "cell_style": "center"
   },
   "source": [
    "The curves above are produced by scanning potential values to cut on the network output and examining the resulting signal classification (true positive) and background mis-classification (false positive) rates.\n",
    "\n",
    "Naturally, a well performing network has a high true positive rate while keeping the (reciprocal) false positive rate at a reasonably low (high) level. For the choice of the axes above, this would lead to a curve that is bent towards the upper right corner. But be aware that other representations of the ROC curve exist which might look somewhat different (e.g. \"1 - false positive rate\" on the y-axis). Their message is, however, identical.\n",
    "\n",
    "A commonly used proxy that compiles the values for all possible cuts into one metric is the area-under-curve - **AUC**. A value of 1 signalizes a perfectly working network that allows for a cut value leading to 100% signal efficiency and 0% background contamination. Opposed to that, a value of 0.5 means that the two output distributions of signal and background events are probably fully overlapping, lacking the opportunity to apply a cut that would favor signal examples. A value of 0 has the same logical meaning as 1, but the definition of what is signal and background is flipped. Therefore, the distance from 0.5 is what actually matters here.\n",
    "\n",
    "A value around 0.75 is already quite decent, but there's still potential. You can try to beat this value in the full training setup below."
   ]
  },
  {
   "cell_type": "markdown",
   "metadata": {
    "slideshow": {
     "slide_type": "slide"
    }
   },
   "source": [
    "## Lessons learned\n",
    "\n",
    "- Now we know how to build a simple model using TensorFlow and Keras.\n",
    "- We learned how to one-hot encode labels.\n",
    "- We performed a quick training using the `fit()` method of Keras models.\n",
    "- To ensure model generalization, we evaluated validation data with our trainined model.\n",
    "- We calculated accuracies and visualized the output distributions.\n",
    "- We learned about ROC curves, AUC values and how to plot / compute them.\n",
    "\n",
    "With these tools at hand, we can jump into the next section and build a custom training loop."
   ]
  },
  {
   "cell_type": "markdown",
   "metadata": {
    "slideshow": {
     "slide_type": "slide"
    }
   },
   "source": [
    "# Part 5: Advanced training loop"
   ]
  },
  {
   "cell_type": "markdown",
   "metadata": {},
   "source": [
    "To get more insights into the actual neural network training process, we will use Keras only to compose the model. For preprocessing, the definition of losses, and the training loop, we will use bare TensorFlow operations and tools.\n",
    "\n",
    "Also, we reconsider some of the choices we made above and incorporate a few techniques that improve the network training.\n",
    "\n",
    "Here are a few TensorFlow resources that might help you in the process:\n",
    "\n",
    "- [Datasets](https://www.tensorflow.org/api_docs/python/tf/data/Dataset)\n",
    "- [Loading NumPy data](https://www.tensorflow.org/tutorials/load_data/numpy)\n",
    "- [Keras layers](https://www.tensorflow.org/api_docs/python/tf/keras/layers)\n",
    "- [Eager execution](https://www.tensorflow.org/guide/eager)\n",
    "- [Gradient tape and differentiation](https://www.tensorflow.org/guide/autodiff)\n",
    "- [Graphs and introduction to `tf.function`](https://www.tensorflow.org/guide/intro_to_graphs)\n",
    "- [Better performance with `tf.function`](https://www.tensorflow.org/guide/function)\n",
    "- [Training loop from scratch](https://www.tensorflow.org/guide/keras/writing_a_training_loop_from_scratch)\n",
    "- [TensorFlow 2 tutorial held at CERN](https://indico.cern.ch/event/882992/contributions/3721506/attachments/1994721/3327402/TensorFlow_2_Workshop_CERN_2020.pdf) (focus in data pipelines and model serving)"
   ]
  },
  {
   "cell_type": "markdown",
   "metadata": {
    "slideshow": {
     "slide_type": "slide"
    }
   },
   "source": [
    "## Eager execution\n",
    "\n",
    "Just like with NumPy, we can interactively work with TensorFlow tensors. Each operation is executed *eagerly* as soon as the interpreter reaches and evaluates that line."
   ]
  },
  {
   "cell_type": "code",
   "execution_count": 33,
   "metadata": {
    "cell_style": "center"
   },
   "outputs": [
    {
     "name": "stdout",
     "output_type": "stream",
     "text": [
      "tf.Tensor([0. 1. 2. 3. 4. 5. 6. 7. 8. 9.], shape=(10,), dtype=float32)\n",
      "tf.Tensor([ 0.  2.  4.  6.  8. 10. 12. 14. 16. 18.], shape=(10,), dtype=float32)\n",
      "tf.Tensor([ 1.  3.  5.  7.  9. 11. 13. 15. 17. 19.], shape=(10,), dtype=float32)\n"
     ]
    }
   ],
   "source": [
    "t = tf.range(0., 10.)\n",
    "print(t)\n",
    "t = t * 2\n",
    "print(t)\n",
    "t = t + 1\n",
    "print(t)"
   ]
  },
  {
   "cell_type": "markdown",
   "metadata": {},
   "source": [
    "Actually, one might not be interested in intermediate results so the outcome of `t = t * 2` in line 3 is perhaps not required. Also, imagine the operation `(t * 2) + 1` is executed on a GPU. The content of `t` - not that many bytes in this example, but tensors can easily reach a couple MBs - is transferred to the GPU, together with the instructions to multiply each value by 2 and then adding 1. The output of this computation is sent back to the CPU where (e.g.) the Python interpreter can print the numbers as done in line 6.\n",
    "\n",
    "There is obviously no need to send back the result of `t * 2`. However, this is exactly what would happen in the example above. While this is a nice and intuitive way to prototype a new model, we somehow need a way to tell TensorFlow to compute a set of instructions as a whole, and that we are only interested in the final result. This is where **graphs** enter the equation."
   ]
  },
  {
   "cell_type": "markdown",
   "metadata": {
    "slideshow": {
     "slide_type": "slide"
    }
   },
   "source": [
    "## Graphs\n",
    "\n",
    "A computational graph describes the symbolic instructions that should be performed on certain input tensors (orange) to produce the result of a complex computation. These instructions are represented by `tf.Operation` objects (green), while the data flowing between them is contained in `tf.Tensor`'s (purple). The graph of the computation above would look like this:\n",
    "\n",
    "[![](https://mermaid.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)](https://mermaid-js.github.io/mermaid-live-editor/#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)\n",
    "\n",
    "To declare a computational graph, we can write a function and decorate it with `tf.function`."
   ]
  },
  {
   "cell_type": "code",
   "execution_count": 34,
   "metadata": {},
   "outputs": [
    {
     "name": "stdout",
     "output_type": "stream",
     "text": [
      "new graph created <dtype: 'float32'> (10,)\n",
      "Tensor(\"mul:0\", shape=(10,), dtype=float32)\n",
      "Tensor(\"add:0\", shape=(10,), dtype=float32)\n"
     ]
    },
    {
     "data": {
      "text/plain": [
       "<tf.Tensor: shape=(10,), dtype=float32, numpy=array([ 1.,  3.,  5.,  7.,  9., 11., 13., 15., 17., 19.], dtype=float32)>"
      ]
     },
     "execution_count": 34,
     "metadata": {},
     "output_type": "execute_result"
    }
   ],
   "source": [
    "@tf.function\n",
    "def my_func(t):\n",
    "    print(\"new graph created\", t.dtype, t.shape)\n",
    "    t = t * 2\n",
    "    print(t)\n",
    "    t = t + 1\n",
    "    print(t)\n",
    "    return t\n",
    "\n",
    "t = tf.range(0., 10.)\n",
    "my_func(t)"
   ]
  },
  {
   "cell_type": "markdown",
   "metadata": {},
   "source": [
    "As you can see, the output is exactly the same, but the intermediate tensors no longer have values attached to them. The first time we called `my_func` in line 10, a concrete graph was created that expects an input tensor with type `float32` and shape `(10,)`. In fact, when we repeat this call with an input tensor of identical type and shape, `my_func` is not even called, but TensorFlow uses the previously created graph and executes it."
   ]
  },
  {
   "cell_type": "code",
   "execution_count": 35,
   "metadata": {},
   "outputs": [
    {
     "data": {
      "text/plain": [
       "<tf.Tensor: shape=(10,), dtype=float32, numpy=array([21., 23., 25., 27., 29., 31., 33., 35., 37., 39.], dtype=float32)>"
      ]
     },
     "execution_count": 35,
     "metadata": {},
     "output_type": "execute_result"
    }
   ],
   "source": [
    "my_func(tf.range(10., 20.))"
   ]
  },
  {
   "cell_type": "markdown",
   "metadata": {},
   "source": [
    "No line `new graph created ...` is printed, implying that `my_func` is indeed not called!\n",
    "\n",
    "However, if we use a tensor with a different type or shape, a new graph is created and stored internally. This powerful feature is called **signature tracing** and you can read more about it [here](https://www.tensorflow.org/guide/function)."
   ]
  },
  {
   "cell_type": "code",
   "execution_count": 36,
   "metadata": {},
   "outputs": [
    {
     "name": "stdout",
     "output_type": "stream",
     "text": [
      "new graph created <dtype: 'float32'> (11,)\n",
      "Tensor(\"mul:0\", shape=(11,), dtype=float32)\n",
      "Tensor(\"add:0\", shape=(11,), dtype=float32)\n",
      "---\n",
      "new graph created <dtype: 'int32'> (10,)\n",
      "Tensor(\"mul:0\", shape=(10,), dtype=int32)\n",
      "Tensor(\"add:0\", shape=(10,), dtype=int32)\n"
     ]
    },
    {
     "data": {
      "text/plain": [
       "<tf.Tensor: shape=(10,), dtype=int32, numpy=array([21, 23, 25, 27, 29, 31, 33, 35, 37, 39], dtype=int32)>"
      ]
     },
     "execution_count": 36,
     "metadata": {},
     "output_type": "execute_result"
    }
   ],
   "source": [
    "my_func(tf.range(10., 21.))\n",
    "print(\"---\")\n",
    "my_func(tf.range(10, 20, dtype=tf.int32))"
   ]
  },
  {
   "cell_type": "markdown",
   "metadata": {},
   "source": [
    "With these concepts at hand, we can go ahead and start building our data pipeline!"
   ]
  },
  {
   "cell_type": "markdown",
   "metadata": {
    "slideshow": {
     "slide_type": "slide"
    }
   },
   "source": [
    "## Data pipeline and preprocessing\n",
    "\n",
    "Above, we created a method `preprocess_constituents` to select the first 120 constituents per jet and to merge the last two dimensions so that we can feed a NN that expects an input feature vector. This was sufficient as the `model.fit` method knows how to apply batching of input jets and how to repeat the dataset to train for more than one epoch.\n",
    "\n",
    "Using plain TensorFlow, we use a `tf.data.Dataset` object for this purpose. Let's write a function that returns a dataset for our training."
   ]
  },
  {
   "cell_type": "code",
   "execution_count": 37,
   "metadata": {},
   "outputs": [],
   "source": [
    "def create_dataset(kind, shuffle=False, repeat=1, batch_size=100, n_constituents=120, seed=None, **kwargs):\n",
    "    # first, we load the data as before, passing all unresolved keyword arguments\n",
    "    c_vectors, true_vectors, labels = qutf.data.load(kind, **kwargs)\n",
    "    \n",
    "    # first, we measure the mean and standard deviation of the raw input vectors,\n",
    "    # of course not taking into account missing constituents\n",
    "    # we will need them for the feature scaling later on\n",
    "    non_zero = c_vectors[:, :, E].flatten() > 0\n",
    "    means = tf.constant([\n",
    "        np.mean(c_vectors[:, :, v].flatten()[non_zero])\n",
    "        for v in (E, PX, PY, PZ)\n",
    "    ])\n",
    "    variances = tf.constant([\n",
    "        np.var(c_vectors[:, :, v].flatten()[non_zero])\n",
    "        for v in (E, PX, PY, PZ)\n",
    "    ])\n",
    "    stddevs = tf.maximum(variances, 1e-6)**0.5\n",
    "    \n",
    "    # then we apply the cut on the first n_constituents per jet\n",
    "    # this is prettly basic and can happen outside the data pipeline\n",
    "    c_vectors = c_vectors[:, :n_constituents]\n",
    "    \n",
    "    # one-hot encode labels\n",
    "    labels = labels_to_onehot(labels)\n",
    "    \n",
    "    # create a tf dataset\n",
    "    data = (c_vectors, true_vectors, labels)\n",
    "    ds = tf.data.Dataset.from_tensor_slices(data)\n",
    "    \n",
    "    # in the following, we amend the dataset object using methods\n",
    "    # that return a new dataset object *without* copying the data\n",
    "    \n",
    "    # apply shuffeling\n",
    "    if shuffle:\n",
    "        ds = ds.shuffle(10 * batch_size, reshuffle_each_iteration=True, seed=seed)\n",
    "    \n",
    "    # apply repetition, i.e. start iterating from the beginning when the dataset is exhausted\n",
    "    ds = ds.repeat(repeat)\n",
    "    \n",
    "    # apply batching\n",
    "    if batch_size < 1:\n",
    "        batch_size = c_vectors.shape[0]\n",
    "    ds = ds.batch(batch_size)\n",
    "    \n",
    "    # store the original data for later access\n",
    "    # (this is considered bad practice and is only used for demonstration purposes)\n",
    "    ds._orig_data = data\n",
    "    \n",
    "    return ds, means, stddevs"
   ]
  },
  {
   "cell_type": "code",
   "execution_count": 38,
   "metadata": {},
   "outputs": [
    {
     "data": {
      "text/plain": [
       "<BatchDataset shapes: ((None, 120, 4), (None, 4), (None, 2)), types: (tf.float32, tf.float32, tf.float32)>"
      ]
     },
     "execution_count": 38,
     "metadata": {},
     "output_type": "execute_result"
    }
   ],
   "source": [
    "# create a training dataset\n",
    "dataset_train, means_train, stddevs_train = create_dataset(\n",
    "    \"train\", shuffle=True, repeat=-1, batch_size=100, stop_file=2)\n",
    "\n",
    "# also load all validation data but disable batching for easier handling\n",
    "dataset_valid, _, _ = create_dataset(\"valid\", batch_size=-1, stop_file=1)\n",
    "\n",
    "dataset_train"
   ]
  },
  {
   "cell_type": "markdown",
   "metadata": {
    "slideshow": {
     "slide_type": "slide"
    }
   },
   "source": [
    "## Feature scaling and numerical domains\n",
    "\n",
    "Now, we include an important aspect of deep learning, namely **feature scaling** (FS)! To introduce FS, we first need to understand the concept of **numerical domains** in the context of NN applications."
   ]
  },
  {
   "cell_type": "markdown",
   "metadata": {},
   "source": [
    "<center><img src=\"assets/nn_graph.png\" width=\"60%\"/></center>"
   ]
  },
  {
   "cell_type": "markdown",
   "metadata": {},
   "source": [
    "Our input data - a selection of four-vectors with values given in GeV - clearly comes from the domain of physics. As we have seen in the plots above, their numerical values range from -500 to 500 for $p_x$ and $p_y$, and up to 2000 for $E$ and $p_z$ values. We can use the abstract term *application domain* to describe these ranges. \n",
    "\n",
    "However, the domain of numbers being passed back and forth through the network is entirely different and can even vary depending on the architecture you pick! A classical feed forward network, such as the one we created above, and a plentora of techniques that were developed throughout the last decade(s) prefer values to be in a range between, say, -1 and 1, and we can call it *network domain*. This is just an example and somewhat larger values are certainly fine as well. But still, you get the idea that numerical application and network domains are *entirely different*.\n",
    "\n",
    "Numerically, the output of our *classification* model is still in the network domain and we simply interpret it as a binary classification decision, so we are safe on this end. Things get a bit more tricky when we perform a *regression* task that should predict the value of a physics quantitiy. We deal with this topic in the extension of this tutorial 👾!"
   ]
  },
  {
   "cell_type": "markdown",
   "metadata": {
    "slideshow": {
     "slide_type": "slide"
    }
   },
   "source": [
    "## Feature scaling in a custom Keras layer\n",
    "\n",
    "A simple way of feature scaling is a plain *normalization* of inputs, i.e, per feature, the **mean** of the distribution is shifted to 0, and values are scaled such that their **standard deviation** approaches 1."
   ]
  },
  {
   "cell_type": "code",
   "execution_count": 39,
   "metadata": {},
   "outputs": [],
   "source": [
    "# define the feature scaling procedure as a custom keras layer\n",
    "# that has, of course, no weights as it is not trainable\n",
    "# see https://keras.io/guides/making_new_layers_and_models_via_subclassing for more info\n",
    "\n",
    "class FeatureScaling(tf.keras.layers.Layer):\n",
    "\n",
    "    def __init__(self, means, stddevs):\n",
    "        \"\"\"\n",
    "        Constructor. Stores arguments as instance members.\n",
    "        \"\"\"\n",
    "        super(FeatureScaling, self).__init__(trainable=False)\n",
    "\n",
    "        self.means = means\n",
    "        self.stddevs = stddevs\n",
    "\n",
    "    def get_config(self):\n",
    "        \"\"\"\n",
    "        Method that is required for model cloning and saving. It should return a\n",
    "        mapping of instance member names to the actual members.\n",
    "        \"\"\"\n",
    "        return {\"means\": self.means, \"stddevs\": self.stddevs}\n",
    "\n",
    "    def compute_output_shape(self, input_shape):\n",
    "        \"\"\"\n",
    "        Method that, given an input shape, defines the shape of the output tensor.\n",
    "        This way, the entire model can be built without actually calling it.\n",
    "        \"\"\"\n",
    "        return (input_shape[0], input_shape[1] * input_shape[2])\n",
    "    \n",
    "    def build(self, input_shape):\n",
    "        \"\"\"\n",
    "        Any variables defined by this layer should be created inside this method.\n",
    "        This helps Keras to defer variable registration to the point where it is\n",
    "        needed the first time, and in particular not at definition time.\n",
    "        \"\"\"\n",
    "        # nothing to do here as our feature scaling has not trainable parameters\n",
    "\n",
    "    def call(self, c_vectors):\n",
    "        \"\"\"\n",
    "        Payload of the layer that takes inputs and computes the requested output\n",
    "        whose shape should match what is defined in compute_output_shape.\n",
    "        \"\"\"\n",
    "        # scale each feature such that it is distributed around 0 with a standard deviation of 1\n",
    "        # BUT: there are already many zeros in the input features and they have\n",
    "        #,      a distinct meaning (missing constituents); we want to keep this information, so we\n",
    "        #      shift these values to -3, i.e. 3 standard deviations to the left\n",
    "        e, px, py, pz = tf.unstack(c_vectors, axis=-1)\n",
    "        zero_pos = -3. * tf.ones_like(e)\n",
    "        non_zero = e > 0\n",
    "        e = tf.where(non_zero, (e - self.means[E]) / self.stddevs[E], zero_pos)\n",
    "        px = tf.where(non_zero, (px - self.means[PX]) / self.stddevs[PX], zero_pos)\n",
    "        py = tf.where(non_zero, (py - self.means[PY]) / self.stddevs[PY], zero_pos)\n",
    "        pz = tf.where(non_zero, (pz - self.means[PZ]) / self.stddevs[PZ], zero_pos)\n",
    "\n",
    "        # we anyway need to flatten the vectors, so just concatenate components\n",
    "        features = tf.concat((e, px, py, pz), axis=-1)\n",
    "        \n",
    "        return features"
   ]
  },
  {
   "cell_type": "markdown",
   "metadata": {
    "slideshow": {
     "slide_type": "slide"
    }
   },
   "source": [
    "## Define the new model"
   ]
  },
  {
   "cell_type": "code",
   "execution_count": 40,
   "metadata": {},
   "outputs": [],
   "source": [
    "def create_model(input_shape, units=(128, 128, 128), activation=\"tanh\", dropout_rate=0., fs_args=None):\n",
    "    # track weights for later use\n",
    "    weights = []\n",
    "    \n",
    "    # input layer\n",
    "    x = tf.keras.Input(input_shape)\n",
    "    \n",
    "    # feature scaling\n",
    "    if not fs_args:\n",
    "        fs_args = (tf.constant(4 * [0.]), tf.constant(4 * [1.]))\n",
    "    a = FeatureScaling(*fs_args)(x)\n",
    "\n",
    "    # add layers programatically\n",
    "    for n in units:\n",
    "        # build the layer\n",
    "        layer = tf.keras.layers.Dense(n, use_bias=True, activation=activation)\n",
    "        a = layer(a)\n",
    "\n",
    "        # store the weight matrix for later use\n",
    "        weights.append(layer.kernel)\n",
    "\n",
    "        # add random unit dropout\n",
    "        if dropout_rate:\n",
    "            a = tf.keras.layers.Dropout(dropout_rate)(a)\n",
    "\n",
    "    # add the softmax layer\n",
    "    y = tf.keras.layers.Dense(2, use_bias=True, activation=\"softmax\")(a)\n",
    "    \n",
    "    # build the model\n",
    "    model = tf.keras.Model(inputs=x, outputs=y, name=\"toptagging_custom\")\n",
    "\n",
    "    return model, weights"
   ]
  },
  {
   "cell_type": "code",
   "execution_count": 41,
   "metadata": {},
   "outputs": [
    {
     "name": "stdout",
     "output_type": "stream",
     "text": [
      "Model: \"toptagging_custom\"\n",
      "_________________________________________________________________\n",
      "Layer (type)                 Output Shape              Param #   \n",
      "=================================================================\n",
      "input_3 (InputLayer)         [(None, 120, 4)]          0         \n",
      "_________________________________________________________________\n",
      "feature_scaling (FeatureScal (None, 480)               0         \n",
      "_________________________________________________________________\n",
      "dense_6 (Dense)              (None, 128)               61568     \n",
      "_________________________________________________________________\n",
      "dense_7 (Dense)              (None, 128)               16512     \n",
      "_________________________________________________________________\n",
      "dense_8 (Dense)              (None, 128)               16512     \n",
      "_________________________________________________________________\n",
      "dense_9 (Dense)              (None, 2)                 258       \n",
      "=================================================================\n",
      "Total params: 94,850\n",
      "Trainable params: 94,850\n",
      "Non-trainable params: 0\n",
      "_________________________________________________________________\n"
     ]
    }
   ],
   "source": [
    "# create the model\n",
    "model, regularization_weights = create_model((120, 4), fs_args=(means_train, stddevs_train))\n",
    "model.summary()"
   ]
  },
  {
   "cell_type": "markdown",
   "metadata": {
    "slideshow": {
     "slide_type": "slide"
    }
   },
   "source": [
    "## Loss definition"
   ]
  },
  {
   "cell_type": "markdown",
   "metadata": {},
   "source": [
    "### Cross entropy\n",
    "\n",
    "The last ingredient before running the training loop is the definition of the loss function. Since we only use Keras for the model building process above, we are free to use anything we want!\n",
    "\n",
    "The main component of the loss is - as above - the binary cross entropy (CE) loss, which is a common choice for classification problems that use a softmax activation in the last layer. Although many variations of CE exist (e.g. the group of *focal* losses), we stick with this simple yet powerful formula,\n",
    "$$\n",
    "\\begin{align}\n",
    "L_\\text{CE}(y, y_t) = -y_t \\cdot \\log(y)\n",
    "\\end{align}\n",
    "$$\n",
    "where $y$ is the NN prediction and $y_t$ is the ground truth.\n",
    "\n",
    "We could have also used the Keras implementation which, in combination with an *unactivated* output layer, takes a shortcut around applying exponential functions in the output layer and building logarithms again in the loss."
   ]
  },
  {
   "cell_type": "markdown",
   "metadata": {
    "cell_style": "center",
    "slideshow": {
     "slide_type": "slide"
    }
   },
   "source": [
    "### L2 regularization\n",
    "\n",
    "The second term in our loss function does not compare predicted and expected values, but only considers the values of all weights used in the model and provides a bad feedback in case these variables obtain rather high values. To understand why high variable values are discouraged in typical NN applications, you can imagine a simple fit of a 1-D function to a set of examples (see image below).\n",
    "\n",
    "<center><img src=\"assets/nn_capacity.png\" width=\"60%\"/></center>\n",
    "\n",
    "In case a network has too few parameters (case 1), its capacity is insufficient to describe the examples with good accuracy (*underfitting*). A network with appropriate capacity (case 2) describes the data in all parts of the phase space $x$. However, guessing the correct capacity that applies equally to all parts of the usually high-dimensional phase space is not always possible.\n",
    "\n",
    "Therefore, the scenario of *overfitting* becomes relevant (case 3). In some parts of the phase space (here, for low x values), the prediction of the network fluctuates significantly to explain each example. This is realized through large values of the paramters of the underlying fit model. The same observation holds for higher-dimensional fits and hence, also for neural networks.\n",
    "\n",
    "For this reason, we introduce the $L_2$ regularization loss, which simply sums up the squares (thus $_2$) of all traininable parameters. Before adding this term to the CE loss defined above, we scale it by a factor $\\lambda$ (`l2_norm`) to control the overall strength of the $L_2$ regularization,\n",
    "$$\n",
    "\\begin{align}\n",
    "L_2 = -\\lambda \\cdot \\sum \\omega^2.\n",
    "\\end{align}\n",
    "$$"
   ]
  },
  {
   "cell_type": "markdown",
   "metadata": {
    "slideshow": {
     "slide_type": "slide"
    }
   },
   "source": [
    "### Combined loss\n",
    "\n",
    "We can create all parts of the loss individually and combine them later on during the training."
   ]
  },
  {
   "cell_type": "code",
   "execution_count": 42,
   "metadata": {
    "slideshow": {
     "slide_type": "-"
    }
   },
   "outputs": [],
   "source": [
    "# define the losses\n",
    "def create_losses(weights, l2_norm=0.001):\n",
    "    # cross entropy\n",
    "    @tf.function\n",
    "    def loss_ce_fn(labels, predictions):\n",
    "        # ensure proper prediction values before applying log's\n",
    "        predictions = tf.clip_by_value(predictions, 1e-6, 1 - 1e-6)\n",
    "        loss_ce = tf.reduce_mean(-labels * tf.math.log(predictions))\n",
    "        return loss_ce\n",
    "\n",
    "    # l2 loss\n",
    "    @tf.function\n",
    "    def loss_l2_fn(labels, predictions):\n",
    "        # accept labels and predictions although we don't need them\n",
    "        # but this makes it easier to call all loss functions the same way\n",
    "        loss_l2 = sum(tf.reduce_sum(w**2) for w in weights)\n",
    "        \n",
    "        return l2_norm * loss_l2\n",
    "        \n",
    "    # return a dict with all loss function components\n",
    "    return {\"ce\": loss_ce_fn, \"l2\": loss_l2_fn}"
   ]
  },
  {
   "cell_type": "code",
   "execution_count": 43,
   "metadata": {},
   "outputs": [],
   "source": [
    "loss_fns = create_losses(regularization_weights, l2_norm=0.001)"
   ]
  },
  {
   "cell_type": "markdown",
   "metadata": {
    "slideshow": {
     "slide_type": "slide"
    }
   },
   "source": [
    "## Optimizer\n",
    "\n",
    "During training, we need an optimizer object that handles the propagation of derivatives back through the network and updates all trainable weights. There are many different optimizers out there, but for now, we will stick with the [*Adam*](https://arxiv.org/abs/1412.6980) optimizer."
   ]
  },
  {
   "cell_type": "code",
   "execution_count": 44,
   "metadata": {},
   "outputs": [],
   "source": [
    "# define the optimizer with a variable learning rate\n",
    "def create_optimizer(initial_learning_rate=0.005):\n",
    "    learning_rate = tf.Variable(initial_learning_rate, dtype=tf.float32, trainable=False)\n",
    "    optimizer = tf.keras.optimizers.Adam(learning_rate)\n",
    "    return optimizer, learning_rate"
   ]
  },
  {
   "cell_type": "code",
   "execution_count": 45,
   "metadata": {},
   "outputs": [],
   "source": [
    "optimizer, learning_rate = create_optimizer()"
   ]
  },
  {
   "cell_type": "markdown",
   "metadata": {
    "slideshow": {
     "slide_type": "slide"
    }
   },
   "source": [
    "## Training loop\n",
    "\n",
    "Now it's time to define the training loop. Here, we use the TensorFlow `GradientTape` which tracks all executed operations and provides the partial gradients of the loss function with respect to all traininable weights, that are used to update their values as part of the backpropagation algorithm. You can learn more on the `GradientTape` and custom training loops [here](https://www.tensorflow.org/guide/keras/writing_a_training_loop_from_scratch)."
   ]
  },
  {
   "cell_type": "code",
   "execution_count": 46,
   "metadata": {},
   "outputs": [],
   "source": [
    "def training_loop_(*args, **kwargs):\n",
    "    \"\"\" Dummy training loop showing the GradientTape API. \"\"\"\n",
    "    \n",
    "    # ...\n",
    "\n",
    "    # do a train step\n",
    "    with tf.GradientTape() as tape:\n",
    "        # get predictions\n",
    "        predictions = model(c_vectors, training=True)\n",
    "        # compute all losses and combine them into the total loss\n",
    "        losses = {\n",
    "            name: loss_fn(labels, predictions)\n",
    "            for name, loss_fn in loss_fns.items()\n",
    "        }\n",
    "        loss = tf.add_n(list(losses.values()))\n",
    "    # get and propagate gradients\n",
    "    gradients = tape.gradient(loss, model.trainable_variables)\n",
    "    optimizer.apply_gradients(zip(gradients, model.trainable_variables))\n",
    "    \n",
    "    # ..."
   ]
  },
  {
   "cell_type": "markdown",
   "metadata": {
    "slideshow": {
     "slide_type": "slide"
    }
   },
   "source": [
    "## Training"
   ]
  },
  {
   "cell_type": "code",
   "execution_count": 47,
   "metadata": {
    "scrolled": true
   },
   "outputs": [
    {
     "data": {
      "application/vnd.jupyter.widget-view+json": {
       "model_id": "6ec46fb6c01d4f438575c657afe4372c",
       "version_major": 2,
       "version_minor": 0
      },
      "text/plain": [
       "HBox(children=(FloatProgress(value=0.0, max=500.0), HTML(value='')))"
      ]
     },
     "metadata": {},
     "output_type": "display_data"
    },
    {
     "name": "stdout",
     "output_type": "stream",
     "text": [
      "500 steps reached, stopping training\n",
      "\n",
      "validation metrics of the best model:\n",
      "Accuracy: 0.6767\n",
      "ROC AUC : 0.7223\n"
     ]
    }
   ],
   "source": [
    "best_model, metrics = qutf.util.training_loop(\n",
    "    dataset_train,\n",
    "    dataset_valid,\n",
    "    model,\n",
    "    loss_fns,\n",
    "    optimizer,\n",
    "    learning_rate,\n",
    "    max_steps=500,\n",
    ")"
   ]
  },
  {
   "cell_type": "markdown",
   "metadata": {
    "slideshow": {
     "slide_type": "slide"
    }
   },
   "source": [
    "## That doesn't look too good. Why?\n",
    "\n",
    "There are actually several reasons ...\n",
    "\n",
    "- We only loaded a fraction of the input data.\n",
    "- The training only ran for 500 steps, i.e., 500 forward pass and back propagation calls. Given the amount of data, this is clearly not enough.\n",
    "- None of the hyper-parameters is tuned yet.\n",
    "\n",
    "Good starting points for improving the training:\n",
    "\n",
    "- [Learning rate scheduling](https://keras.io/api/optimizers/learning_rate_schedules/exponential_decay)\n",
    "- [Batch normalization](https://keras.io/api/layers/normalization_layers/batch_normalization)\n",
    "- [Activations](https://keras.io/api/layers/activations/#selu-function)\n",
    "- [Focal loss](https://medium.com/visionwizard/understanding-focal-loss-a-quick-read-b914422913e7)\n",
    "- [...](https://lmgtfy.com/?q=How+to+improve+my+neural+network)"
   ]
  },
  {
   "cell_type": "markdown",
   "metadata": {
    "slideshow": {
     "slide_type": "slide"
    }
   },
   "source": [
    "## Playground\n",
    "\n",
    "Feel free to start playing with the cells below. Accuracies of 80% and higher should be possible ...\n",
    "\n",
    "**Note**: If you experience notebook kernal interruptions or messages like `Allocation of XXXXXXXX exceeds XX% of free system memory` on the terminal, reduce the number of input files again with the `stop_file` parameter as we did above. Reasonble results can already be achieved with a subset of the input data."
   ]
  },
  {
   "cell_type": "code",
   "execution_count": null,
   "metadata": {},
   "outputs": [],
   "source": [
    "# define hyper-parameters\n",
    "# ACTION REQUIRED\n",
    "n_constituents = 120\n",
    "batch_size = ....\n",
    "l2_norm = ....\n",
    "initial_learning_rate = ....\n",
    "units = ....\n",
    "activation = ....\n",
    "dropout_rate = ....\n",
    "n_train_files = -1  # set this to a value that works with your RAM\n",
    "n_valid_files = -1  # set this to a value that works with your RAM"
   ]
  },
  {
   "cell_type": "code",
   "execution_count": null,
   "metadata": {},
   "outputs": [],
   "source": [
    "# load all data\n",
    "dataset_train, means_train, stddevs_train = create_dataset(\n",
    "    \"train\",\n",
    "    shuffle=True,\n",
    "    repeat=-1,\n",
    "    batch_size=batch_size,\n",
    "    n_constituents=n_constituents,\n",
    "    stop_file=n_train_files,\n",
    ")\n",
    "dataset_valid, _, _ = create_dataset(\n",
    "    \"valid\",\n",
    "    batch_size=-1,\n",
    "    n_constituents=n_constituents,\n",
    "    stop_file=n_valid_files,\n",
    ")"
   ]
  },
  {
   "cell_type": "code",
   "execution_count": null,
   "metadata": {},
   "outputs": [],
   "source": [
    "# create the model\n",
    "model, regularization_weights = create_model(\n",
    "    (n_constituents, 4),\n",
    "    units=units,\n",
    "    activation=activation,\n",
    "    dropout_rate=dropout_rate,\n",
    "    fs_args=(means_train, stddevs_train),\n",
    ")\n",
    "loss_fns = create_losses(regularization_weights, l2_norm)\n",
    "optimizer, learning_rate = create_optimizer(initial_learning_rate)\n",
    "model.summary()"
   ]
  },
  {
   "cell_type": "code",
   "execution_count": null,
   "metadata": {},
   "outputs": [],
   "source": [
    "# and train\n",
    "best_model, metrics = training_loop(\n",
    "    dataset_train,\n",
    "    dataset_valid,\n",
    "    model,\n",
    "    loss_fns,\n",
    "    optimizer,\n",
    "    learning_rate,\n",
    "    max_steps=5000,\n",
    ")"
   ]
  },
  {
   "cell_type": "markdown",
   "metadata": {},
   "source": [
    "You can create the ROC and output plots we defined above to study the training."
   ]
  },
  {
   "cell_type": "code",
   "execution_count": null,
   "metadata": {},
   "outputs": [],
   "source": [
    "labels_train = dataset_train._orig_data[2]\n",
    "labels_valid = dataset_valid._orig_data[2]\n",
    "\n",
    "predictions_train = best_model.predict(dataset_train._orig_data[0])\n",
    "predictions_valid = best_model.predict(dataset_valid._orig_data[0])"
   ]
  },
  {
   "cell_type": "code",
   "execution_count": null,
   "metadata": {},
   "outputs": [],
   "source": [
    "plot_roc(\n",
    "    (labels_train, labels_valid),\n",
    "    (predictions_train, predictions_valid),\n",
    "    names=(\"train\", \"valid\"),\n",
    ").show()\n",
    "\n",
    "plot_hist(\n",
    "    (predictions_valid[labels_valid[:, 1] == 0][:, 1], predictions_valid[labels_valid[:, 1] == 1][:, 1]),\n",
    "    names=(\"Light jets\", \"Top jets\"),\n",
    "    xlabel=\"Output distribution\",\n",
    ").show()"
   ]
  },
  {
   "cell_type": "markdown",
   "metadata": {
    "slideshow": {
     "slide_type": "slide"
    }
   },
   "source": [
    "## Lessons learned\n",
    "\n",
    "- We learned about eager execution and graphs.\n",
    "- We know what `tf.function`'s are and how they create and cache graphs by the means of signature tracing.\n",
    "- Feature scaling and the separation of numerical domains between network and physics application were motivated.\n",
    "- An example of a custom Keras layer was given.\n",
    "- We built a data pipeline using TensorFlow datasets.\n",
    "- We created and used a custom training loop using the GradientTape.\n",
    "- We learned that the choice of hyper-parameters is crucial for physics performance."
   ]
  },
  {
   "cell_type": "markdown",
   "metadata": {
    "slideshow": {
     "slide_type": "slide"
    }
   },
   "source": [
    "# Part 6 (opt.): Multi-purpose network\n",
    "\n",
    "Networks can be used for more than one purpose at the same time. Although it is always an option to develop one model for each particular use case, it might be beneficial to rely on a single, **multi-purpose network**.\n",
    "\n",
    "First, the power of a model to make predictions depends on its ability to extract useful information from input data. This entails the discovery of inner symmetries in usually complex data (physics relations in our case) as well as of (high-dimensional) regions in the phase space that separate between signal and background. **Two tasks might require their networks to exploit its input data in a similar fashion**, so having a common part seems very natural."
   ]
  },
  {
   "cell_type": "markdown",
   "metadata": {
    "slideshow": {
     "slide_type": "slide"
    }
   },
   "source": [
    "# Part 6 (opt.): Multi-purpose network\n",
    "\n",
    "Second, training two separate networks for two different purposes provides **no handle to control the correlation between their particular outputs** (if trained properly). For instance, given the same input example, one network might be able to predict a physics quantity very precisely, while an other network struggles at its specific task.\n",
    "\n",
    "However, given the feedback of the loss function through backpropagation, **the additional training target is another source of information that a network eventually exploits**.\n",
    "\n",
    "Therefore, the presence of a second training target in the loss function can actually influence the performance to predict the initial target, and this is what we are going to do in the following."
   ]
  },
  {
   "cell_type": "markdown",
   "metadata": {
    "slideshow": {
     "slide_type": "slide"
    }
   },
   "source": [
    "## Strategy\n",
    "\n",
    "Instead of just classifying a jet as either a top or a light jet, we include a **regression** task, i.e., the prediction of a real physics quantity. For all true top jets, we want to **learn the energy** of the initial particle that caused the jet. For light jets, we want this energy to be **zero**.\n",
    "\n",
    "We achieve this by definining a network part that is common to both tasks, as well as two dedicated sets of densely connected layers. The output of these two parts are concatenated, resulting in a total of **three** output nodes:\n",
    "\n",
    "- two classification outputs (light-jet-like, top-jet-like), and\n",
    "- one regression output (the energy).\n",
    "\n",
    "For the combined loss function, this implies that we need to introduce another hyper-parameter (`reg_norm`) to balance the regression loss with respect to the classification loss."
   ]
  },
  {
   "cell_type": "markdown",
   "metadata": {
    "slideshow": {
     "slide_type": "slide"
    }
   },
   "source": [
    "## But wait ...\n",
    "\n",
    "As we've seen above, the target energy values span a range from 0 to approximately 2500 GeV.\n",
    "\n",
    "Using the terms introduced above, this numerical *application domain* is not compatible with the *network domain*, so another scaling is required. When doing so, the network is constructed to predict the scaled value which is then manually re-scaled to obtain a value that we *interpret* as an energy."
   ]
  },
  {
   "cell_type": "code",
   "execution_count": 49,
   "metadata": {
    "slideshow": {
     "slide_type": "slide"
    }
   },
   "outputs": [],
   "source": [
    "# define a new model building function\n",
    "def create_model(input_shape, units=((128, 128), (128, 128), (128, 128)), activation=\"tanh\", dropout_rate=0.,\n",
    "        fs_args=None):\n",
    "    # track weights for later use\n",
    "    weights = []\n",
    "    \n",
    "    # input layer\n",
    "    x = tf.keras.Input(input_shape)\n",
    "    \n",
    "    # feature scaling\n",
    "    if not fs_args:\n",
    "        fs_args = (tf.constant(4 * [0.]), tf.constant(4 * [1.]))\n",
    "    a = FeatureScaling(*fs_args)(x)\n",
    "\n",
    "    # helper to stack layers\n",
    "    def stack_layers(a, units):\n",
    "        for n in units:\n",
    "            # build the layer\n",
    "            layer = tf.keras.layers.Dense(n, use_bias=True, activation=activation)\n",
    "            a = layer(a)\n",
    "\n",
    "            # store the weight matrix for later use\n",
    "            weights.append(layer.kernel)\n",
    "\n",
    "            # add random unit dropout\n",
    "            if dropout_rate:\n",
    "                a = tf.keras.layers.Dropout(dropout_rate)(a)\n",
    "        return a\n",
    "\n",
    "    # layers of the common network part\n",
    "    a_common = stack_layers(a, units[0])\n",
    "    \n",
    "    # layers of the classification part\n",
    "    a_cls = stack_layers(a, units[1])\n",
    "    \n",
    "    # layers of the regression part\n",
    "    a_reg = stack_layers(a, units[2])\n",
    "\n",
    "    # softmax layer for the classification\n",
    "    y_cls = tf.keras.layers.Dense(2, use_bias=True, activation=\"softmax\")(a_cls)\n",
    "    \n",
    "    # simple dense layer with asinh activation for the regression\n",
    "    # it's not in Keras so use the tf op right away\n",
    "    # https://www.wolframalpha.com/input/?i=draw+arcsinh%28x%29+from+x%3D-10+to+10\n",
    "    y_reg = tf.math.asinh(tf.keras.layers.Dense(1, use_bias=True)(a_reg))\n",
    "    \n",
    "    # concatenate them to get the total output\n",
    "    y = tf.concat([y_cls, y_reg], axis=-1)\n",
    "    \n",
    "    # build the model\n",
    "    model = tf.keras.Model(inputs=x, outputs=y, name=\"toptagging_and_regression\")\n",
    "\n",
    "    return model, weights"
   ]
  },
  {
   "cell_type": "code",
   "execution_count": 50,
   "metadata": {},
   "outputs": [],
   "source": [
    "# define new losses\n",
    "def create_losses(energy_mean, energy_stddev, weights, reg_norm=1., l2_norm=0.001):\n",
    "    # cross entropy\n",
    "    @tf.function\n",
    "    def loss_ce_fn(labels, predictions):\n",
    "        # only use the first two values\n",
    "        labels = labels[:, :2]\n",
    "        predictions = predictions[:, :2]\n",
    "        \n",
    "        # ensure proper prediction values before applying log's\n",
    "        predictions = tf.clip_by_value(predictions, 1e-6, 1 - 1e-6)\n",
    "        loss_ce = tf.reduce_mean(-labels * tf.math.log(predictions))\n",
    "        return loss_ce\n",
    "\n",
    "    # MSE loss\n",
    "    @tf.function\n",
    "    def loss_mse_fn(labels, predictions):\n",
    "        # only use the third value\n",
    "        target = labels[:, 2]\n",
    "        prediction = predictions[:, 2]\n",
    "        \n",
    "        # we scale the target so that the network tries to predict\n",
    "        # a value in the exact same domain\n",
    "        target_scaled = (target - energy_mean) / energy_stddev\n",
    "        \n",
    "        # compute the mse loss\n",
    "        loss_mse = tf.reduce_mean((target_scaled - prediction)**2.)\n",
    "\n",
    "        return reg_norm * loss_mse\n",
    "\n",
    "    # l2 loss\n",
    "    @tf.function\n",
    "    def loss_l2_fn(labels, predictions):\n",
    "        # accept labels and predictions although we don't need them\n",
    "        # but this makes it easier to call all loss functions the same way\n",
    "        loss_l2 = sum(tf.reduce_sum(w**2) for w in weights)\n",
    "        \n",
    "        return l2_norm * loss_l2\n",
    "        \n",
    "    # return a dict with all loss function components\n",
    "    return {\"ce\": loss_ce_fn, \"mse\": loss_mse_fn, \"l2\": loss_l2_fn}"
   ]
  },
  {
   "cell_type": "code",
   "execution_count": 51,
   "metadata": {},
   "outputs": [],
   "source": [
    "# define hyper-parameters\n",
    "n_constituents = 120\n",
    "batch_size = 200\n",
    "reg_norm = 0.\n",
    "l2_norm = 0.001\n",
    "initial_learning_rate = 0.003\n",
    "units = ((128, 128), (128, 128), (128, 128))\n",
    "activation = \"tanh\"\n",
    "dropout_rate = 0.\n",
    "n_train_files = 2\n",
    "n_valid_files = 1"
   ]
  },
  {
   "cell_type": "code",
   "execution_count": null,
   "metadata": {},
   "outputs": [],
   "source": [
    "# load all data\n",
    "dataset_train, means_train, stddevs_train = create_dataset(\n",
    "    \"train\",\n",
    "    shuffle=True,\n",
    "    repeat=-1,\n",
    "    batch_size=batch_size,\n",
    "    n_constituents=n_constituents,\n",
    "    stop_file=n_train_files,\n",
    ")\n",
    "dataset_valid, _, _ = create_dataset(\n",
    "    \"valid\",\n",
    "    batch_size=-1,\n",
    "    n_constituents=n_constituents,\n",
    "    stop_file=n_valid_files,\n",
    ")"
   ]
  },
  {
   "cell_type": "code",
   "execution_count": null,
   "metadata": {},
   "outputs": [],
   "source": [
    "# compute the mean and stddev of the true energy\n",
    "true_e = dataset_train._orig_data[1][:, E]\n",
    "true_e = true_e[true_e > 0]\n",
    "energy_mean = np.mean(true_e)\n",
    "energy_stddev = np.std(true_e)\n",
    "print(f\"energy mean  : {energy_mean:.4f}\")\n",
    "print(f\"energy stddev: {energy_stddev:.4f}\")"
   ]
  },
  {
   "cell_type": "code",
   "execution_count": null,
   "metadata": {},
   "outputs": [],
   "source": [
    "# create the model\n",
    "model, regularization_weights = create_model(\n",
    "    (n_constituents, 4),\n",
    "    units=units,\n",
    "    activation=activation,\n",
    "    dropout_rate=dropout_rate,\n",
    "    fs_args=(means_train, stddevs_train),\n",
    ")\n",
    "loss_fns = create_losses(energy_mean, energy_stddev, regularization_weights, reg_norm, l2_norm)\n",
    "optimizer, learning_rate = create_optimizer(initial_learning_rate)\n",
    "model.summary()"
   ]
  },
  {
   "cell_type": "code",
   "execution_count": null,
   "metadata": {},
   "outputs": [],
   "source": [
    "# and train\n",
    "# (note that *stack_energy* is set to True)\n",
    "best_model, metrics = training_loop(\n",
    "    dataset_train,\n",
    "    dataset_valid,\n",
    "    model,\n",
    "    loss_fns,\n",
    "    optimizer,\n",
    "    learning_rate,\n",
    "    max_steps=500,\n",
    "    stack_energy=True,\n",
    ")"
   ]
  },
  {
   "cell_type": "markdown",
   "metadata": {
    "slideshow": {
     "slide_type": "slide"
    }
   },
   "source": [
    "## Amend the model to rescale the energy\n",
    "\n",
    "TensorFlow functions and Keras callables (models and layers) can be used interchangeably, meaning that a  previously trained Keras model can be called within a `tf.function`.\n",
    "\n",
    "We can exploit this feature to rescale the energy prediction of the model back to the *physics domain*."
   ]
  },
  {
   "cell_type": "code",
   "execution_count": null,
   "metadata": {},
   "outputs": [],
   "source": [
    "# the best model now returns classification outputs and a\n",
    "# *scaled* energy, so create a tf.function that *re-scales* it\n",
    "@tf.function\n",
    "def rescaled_model(c_vectors):\n",
    "    predictions = best_model(c_vectors, training=False)\n",
    "    rescaled_energy = (predictions[:, 2:] * energy_stddev) + energy_mean\n",
    "    return tf.concat([predictions[:, :2], rescaled_energy], axis=-1)"
   ]
  },
  {
   "cell_type": "code",
   "execution_count": null,
   "metadata": {},
   "outputs": [],
   "source": [
    "# get labels and predictions\n",
    "labels_valid = dataset_valid._orig_data[2]\n",
    "true_e_valid = dataset_valid._orig_data[1][:, E]\n",
    "predictions_valid = rescaled_model(dataset_valid._orig_data[0]).numpy()\n",
    "\n",
    "# get mask to select true tops\n",
    "is_top = labels_valid[:, 1] == 1"
   ]
  },
  {
   "cell_type": "code",
   "execution_count": null,
   "metadata": {},
   "outputs": [],
   "source": [
    "# plot the distributions\n",
    "qutf.plots.plot_hist(\n",
    "    (predictions_valid[:, 1][is_top], predictions_valid[:, 1][~is_top]),\n",
    "    names=jet_names,\n",
    "    xlabel=\"Output distribution\",\n",
    ").show()\n",
    "\n",
    "qutf.plots.plot_hist(\n",
    "    (true_e_valid[is_top], predictions_valid[:, 2][is_top]),\n",
    "    names=(\"Truth\", \"Prediction\"),\n",
    "    xlabel=\"Top energy / GeV\",\n",
    ").show()"
   ]
  },
  {
   "cell_type": "markdown",
   "metadata": {},
   "source": [
    "To optimize both output targets, start with the set of hyper-parameters that you found in the previous task. Then, try to change the `reg_norm` value to see its effect on either the classification or regression output."
   ]
  }
 ],
 "metadata": {
  "celltoolbar": "Slideshow",
  "kernelspec": {
   "display_name": "Python 3",
   "language": "python",
   "name": "python3"
  },
  "language_info": {
   "codemirror_mode": {
    "name": "ipython",
    "version": 3
   },
   "file_extension": ".py",
   "mimetype": "text/x-python",
   "name": "python",
   "nbconvert_exporter": "python",
   "pygments_lexer": "ipython3",
   "version": "3.6.9"
  },
  "rise": {
   "controls": false,
   "footer": "&nbsp;&nbsp; <b>QU TensorFlow Tutorial</b> | 8. June 2021 | Marcel Rieger",
   "scroll": true,
   "slideNumber": "c",
   "theme": "simple",
   "transition": "none"
  }
 },
 "nbformat": 4,
 "nbformat_minor": 4
}
